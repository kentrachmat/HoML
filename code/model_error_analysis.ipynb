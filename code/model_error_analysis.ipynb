{
 "cells": [
  {
   "cell_type": "markdown",
   "metadata": {},
   "source": [
    "# Model Error Analysis"
   ]
  },
  {
   "cell_type": "markdown",
   "metadata": {},
   "source": [
    "In this notebook we analyse the model susceptibility to different perturbations. In other words, we record the change in accuracy with trespext to the modified input using the augmentation techniques provided by Albumentations. We test the following methods: \n",
    "\n",
    "- **ColorJitter**: Randomly changes the brightness, contrast, and saturation of an image.\n",
    "- **GaussNoise**: Apply gaussian noise to the input image.\n",
    "- **ChannelShuffle**: Randomly rearrange channels of the input RGB image.\n",
    "- **HueSaturationValue**: Randomly change hue, saturation and value of the input image.\n",
    "- **ImageCompression**: Decreases image quality by Jpeg, WebP compression of an image.\n",
    "- **Downscale**: Decreases image quality by downscaling and upscaling back.\n",
    "\n",
    "More information on Albumentations can be found in the documentation https://albumentations.ai/docs/api_reference/augmentations/transforms/"
   ]
  },
  {
   "cell_type": "code",
   "execution_count": 312,
   "metadata": {
    "pycharm": {
     "is_executing": true,
     "name": "#%%\n"
    }
   },
   "outputs": [
    {
     "ename": "ImportError",
     "evalue": "cannot import name 'mpl' from 'matplotlib' (/home/ubuntu/anaconda3/lib/python3.7/site-packages/matplotlib/__init__.py)",
     "output_type": "error",
     "traceback": [
      "\u001b[0;31m---------------------------------------------------------------------------\u001b[0m",
      "\u001b[0;31mImportError\u001b[0m                               Traceback (most recent call last)",
      "\u001b[0;32m<ipython-input-312-ec29632036d3>\u001b[0m in \u001b[0;36m<module>\u001b[0;34m\u001b[0m\n\u001b[1;32m      5\u001b[0m \u001b[0;32mimport\u001b[0m \u001b[0malbumentations\u001b[0m \u001b[0;32mas\u001b[0m \u001b[0mA\u001b[0m\u001b[0;34m\u001b[0m\u001b[0;34m\u001b[0m\u001b[0m\n\u001b[1;32m      6\u001b[0m \u001b[0;34m\u001b[0m\u001b[0m\n\u001b[0;32m----> 7\u001b[0;31m \u001b[0;32mfrom\u001b[0m \u001b[0mmatplotlib\u001b[0m \u001b[0;32mimport\u001b[0m \u001b[0mmpl\u001b[0m\u001b[0;34m\u001b[0m\u001b[0;34m\u001b[0m\u001b[0m\n\u001b[0m\u001b[1;32m      8\u001b[0m \u001b[0;32mfrom\u001b[0m \u001b[0mtorchvision\u001b[0m \u001b[0;32mimport\u001b[0m \u001b[0mtransforms\u001b[0m\u001b[0;34m,\u001b[0m \u001b[0mdatasets\u001b[0m\u001b[0;34m\u001b[0m\u001b[0;34m\u001b[0m\u001b[0m\n\u001b[1;32m      9\u001b[0m \u001b[0;32mfrom\u001b[0m \u001b[0mtorch\u001b[0m\u001b[0;34m.\u001b[0m\u001b[0mutils\u001b[0m\u001b[0;34m.\u001b[0m\u001b[0mdata\u001b[0m \u001b[0;32mimport\u001b[0m \u001b[0mDataLoader\u001b[0m\u001b[0;34m\u001b[0m\u001b[0;34m\u001b[0m\u001b[0m\n",
      "\u001b[0;31mImportError\u001b[0m: cannot import name 'mpl' from 'matplotlib' (/home/ubuntu/anaconda3/lib/python3.7/site-packages/matplotlib/__init__.py)"
     ]
    }
   ],
   "source": [
    "import numpy as np\n",
    "import pandas as pd\n",
    "import matplotlib.pyplot as plt\n",
    "import torch\n",
    "import albumentations as A\n",
    "\n",
    "from torchvision import transforms, datasets\n",
    "from torch.utils.data import DataLoader\n",
    "from torchmetrics.classification import MulticlassAccuracy\n",
    "\n",
    "from predict import load_model_effnet, load_model_scratch"
   ]
  },
  {
   "cell_type": "code",
   "execution_count": 228,
   "metadata": {},
   "outputs": [],
   "source": [
    "device = torch.device(\"cuda:0\" if torch.cuda.is_available() else \"cpu\") # automatically select on what device to run the code"
   ]
  },
  {
   "cell_type": "markdown",
   "metadata": {},
   "source": [
    "## Evaluation on the original data"
   ]
  },
  {
   "cell_type": "markdown",
   "metadata": {},
   "source": [
    "The function below computes the total accuracy over the whole valid set and the accuracy over each class using the built-in method MulticlassAccuracy from torchmetrics . And outputs the list of results, where the last value is total accuracy. \n",
    "$$ Accuracy = \\sum_{i}^{N} 1(y_{i} = \\hat{ y_{i}})$$\n",
    "Where $y$ is a tensor of target values, and $\\hat{y}$ is a tensor of predictions."
   ]
  },
  {
   "cell_type": "code",
   "execution_count": 243,
   "metadata": {
    "pycharm": {
     "name": "#%%\n"
    }
   },
   "outputs": [],
   "source": [
    "def test(data_loader, model):\n",
    "    model = model.to(device)\n",
    "    model.eval()\n",
    "    correct = 0\n",
    "    preds = []\n",
    "    gts = []\n",
    "    metric = MulticlassAccuracy(num_classes=13, average=None)\n",
    "    for images, labels in data_loader:\n",
    "        images, labels =  images.to(device), labels.to(device)\n",
    "        output = model(images)\n",
    "        pred = output.data.max(1)[1]\n",
    "        preds.append(pred)\n",
    "        gts.append(labels)\n",
    "        correct += pred.eq(labels.data).cpu().sum()\n",
    "    \n",
    "    x = torch.reshape(torch.stack(preds,0), [-1,1])\n",
    "    y = torch.reshape(torch.stack(gts,0), [-1,1])\n",
    "    acc_per_class = metric(x.cpu(), y.data.cpu())\n",
    "    results = list(100*np.array(acc_per_class))\n",
    "    tot_acc = float(100. * correct / len(data_loader.dataset))\n",
    "    results.append(tot_acc)\n",
    "    print('\\nValid set: Accuracy for the whole set : {}/{} ({:.2f}%)\\n'.format(correct, len(data_loader.dataset),\n",
    "        100. * correct / len(data_loader.dataset)))\n",
    "\n",
    "    return results "
   ]
  },
  {
   "cell_type": "markdown",
   "metadata": {},
   "source": [
    "Record the accuracy of the model from scratch and pretrained model on the original data before applying augmentations"
   ]
  },
  {
   "cell_type": "code",
   "execution_count": 244,
   "metadata": {
    "pycharm": {
     "name": "#%%\n"
    }
   },
   "outputs": [],
   "source": [
    "PATH_TO_VALID = '../data/new_data/valid-lab/'\n",
    "valid_set = datasets.ImageFolder(root=PATH_TO_VALID, transform=transforms.ToTensor())\n",
    "valid_data = DataLoader(valid_set, batch_size=16, shuffle=True, num_workers=2)"
   ]
  },
  {
   "cell_type": "code",
   "execution_count": 245,
   "metadata": {
    "pycharm": {
     "name": "#%%\n"
    }
   },
   "outputs": [],
   "source": [
    "model_scratch = load_model_scratch()\n",
    "model_effnet = load_model_effnet()"
   ]
  },
  {
   "cell_type": "code",
   "execution_count": 246,
   "metadata": {},
   "outputs": [
    {
     "name": "stdout",
     "output_type": "stream",
     "text": [
      "\n",
      "Valid set: Accuracy for the whole set : 866/1040 (83.27%)\n",
      "\n"
     ]
    }
   ],
   "source": [
    "x_scratch = test(valid_data, model_scratch)"
   ]
  },
  {
   "cell_type": "code",
   "execution_count": 247,
   "metadata": {},
   "outputs": [
    {
     "name": "stdout",
     "output_type": "stream",
     "text": [
      "\n",
      "Valid set: Accuracy for the whole set : 1005/1040 (96.63%)\n",
      "\n"
     ]
    }
   ],
   "source": [
    "x_effnet = test(valid_data, model_effnet)"
   ]
  },
  {
   "cell_type": "markdown",
   "metadata": {},
   "source": [
    "## Modify the input"
   ]
  },
  {
   "cell_type": "markdown",
   "metadata": {},
   "source": [
    "For this experiment we decided to use **Albumentations** as it provides wider range of augmentation methods in comparison to **PyTorch**. However, since the Albumentations accepts different input format incompatible to the pytorch method ImageFolder, below we create another class called **A_Transforms** where we can pass the method of augmentation and receive the correct input for ImageFolder. It will be useful further, when we automate the function for testing different methods. "
   ]
  },
  {
   "cell_type": "code",
   "execution_count": 248,
   "metadata": {},
   "outputs": [],
   "source": [
    "class A_Transforms:\n",
    "    def __init__(self, aug_type):\n",
    "        self.transforms = aug_type\n",
    "\n",
    "    def __call__(self, img, *args, **kwargs):\n",
    "        return self.transforms(image=np.array(img))['image']"
   ]
  },
  {
   "cell_type": "markdown",
   "metadata": {},
   "source": [
    "Let's try to apply Gaussian Noise and observe the change in accuracy."
   ]
  },
  {
   "cell_type": "code",
   "execution_count": 251,
   "metadata": {},
   "outputs": [],
   "source": [
    "new_valid_set_noisy = datasets.ImageFolder(root=PATH_TO_VALID, transform = transforms.Compose([A_Transforms(A.GaussNoise(p=1)), transforms.ToTensor()]))\n",
    "new_valid_loader_noisy = DataLoader(new_valid_set_noisy, batch_size=16, shuffle=True, num_workers=2)"
   ]
  },
  {
   "cell_type": "code",
   "execution_count": 252,
   "metadata": {},
   "outputs": [
    {
     "name": "stdout",
     "output_type": "stream",
     "text": [
      "\n",
      "Valid set: Accuracy for the whole set : 858/1040 (82.50%)\n",
      "\n",
      "\n",
      "Valid set: Accuracy for the whole set : 921/1040 (88.56%)\n",
      "\n"
     ]
    }
   ],
   "source": [
    "x_scratch_perturbed = test(new_valid_loader_noisy, model_scratch)\n",
    "x_effnet_perturbed = test(new_valid_loader_noisy, model_effnet)"
   ]
  },
  {
   "cell_type": "markdown",
   "metadata": {},
   "source": [
    "The decrease in ~0.5% and ~5.0% can be observed for the model trained from scratch and the model using the pretrained weights of EfficientNet respectively."
   ]
  },
  {
   "cell_type": "markdown",
   "metadata": {},
   "source": [
    "## Accuracy per class analysis"
   ]
  },
  {
   "cell_type": "markdown",
   "metadata": {},
   "source": [
    "Now, let's try not only analyze the change in total accuracy. But use different augmentations decsribed above to observe the change in accuracies per each class. "
   ]
  },
  {
   "cell_type": "code",
   "execution_count": 253,
   "metadata": {},
   "outputs": [
    {
     "name": "stdout",
     "output_type": "stream",
     "text": [
      "\n",
      "Valid set: Accuracy for the whole set : 855/1040 (82.21%)\n",
      "\n",
      "\n",
      "Valid set: Accuracy for the whole set : 929/1040 (89.33%)\n",
      "\n",
      "\n",
      "Valid set: Accuracy for the whole set : 498/1040 (47.88%)\n",
      "\n",
      "\n",
      "Valid set: Accuracy for the whole set : 854/1040 (82.12%)\n",
      "\n",
      "\n",
      "Valid set: Accuracy for the whole set : 732/1040 (70.38%)\n",
      "\n",
      "\n",
      "Valid set: Accuracy for the whole set : 423/1040 (40.67%)\n",
      "\n",
      "\n",
      "Valid set: Accuracy for the whole set : 749/1040 (72.02%)\n",
      "\n",
      "\n",
      "Valid set: Accuracy for the whole set : 967/1040 (92.98%)\n",
      "\n",
      "\n",
      "Valid set: Accuracy for the whole set : 662/1040 (63.65%)\n",
      "\n",
      "\n",
      "Valid set: Accuracy for the whole set : 922/1040 (88.65%)\n",
      "\n",
      "\n",
      "Valid set: Accuracy for the whole set : 865/1040 (83.17%)\n",
      "\n",
      "\n",
      "Valid set: Accuracy for the whole set : 1004/1040 (96.54%)\n",
      "\n"
     ]
    }
   ],
   "source": [
    "keys = [A.GaussNoise(p=1), A.ChannelShuffle(p=1), A.Downscale(p=1), A.HueSaturationValue(p=1), A.ColorJitter(p=1), A.ImageCompression(p=1)]\n",
    "\n",
    "names = ['GaussNoise', 'ChannelShuffle', 'Downscale', 'HueSaturationValue', 'ColorJitter', 'ImageCompression']\n",
    "data_scratch = dict()\n",
    "data_effnet = dict()\n",
    "for augment_type, name in zip(keys,names):\n",
    "    new_valid_set = datasets.ImageFolder(root=PATH_TO_VALID, transform = transforms.Compose([A_Transforms(augment_type), transforms.ToTensor()]))\n",
    "    new_valid_loader = DataLoader(new_valid_set, batch_size=16, shuffle=True, num_workers=2)\n",
    "    acc_1 = test(new_valid_loader, model_scratch) \n",
    "    acc_2 = test(new_valid_loader, model_effnet)\n",
    "    data_scratch[name] = acc_1\n",
    "    data_effnet[name] = acc_2"
   ]
  },
  {
   "cell_type": "markdown",
   "metadata": {},
   "source": [
    "Create the dataframe for convenience using the class names from *valid_set.class_to_idx* and adding the column name for the total Accuracy"
   ]
  },
  {
   "cell_type": "code",
   "execution_count": 254,
   "metadata": {},
   "outputs": [],
   "source": [
    "columns = list(valid_set.class_to_idx.keys())\n",
    "columns.append('Total')"
   ]
  },
  {
   "cell_type": "code",
   "execution_count": 255,
   "metadata": {},
   "outputs": [],
   "source": [
    "df_scratch = pd.DataFrame.from_dict(data_scratch, orient = 'index', columns = columns)\n",
    "df_effnet = pd.DataFrame.from_dict(data_effnet, orient = 'index', columns = columns)"
   ]
  },
  {
   "cell_type": "markdown",
   "metadata": {},
   "source": [
    "The table of the results for the model from scratch"
   ]
  },
  {
   "cell_type": "code",
   "execution_count": 256,
   "metadata": {},
   "outputs": [
    {
     "data": {
      "text/html": [
       "<div>\n",
       "<style scoped>\n",
       "    .dataframe tbody tr th:only-of-type {\n",
       "        vertical-align: middle;\n",
       "    }\n",
       "\n",
       "    .dataframe tbody tr th {\n",
       "        vertical-align: top;\n",
       "    }\n",
       "\n",
       "    .dataframe thead th {\n",
       "        text-align: right;\n",
       "    }\n",
       "</style>\n",
       "<table border=\"1\" class=\"dataframe\">\n",
       "  <thead>\n",
       "    <tr style=\"text-align: right;\">\n",
       "      <th></th>\n",
       "      <th>beach</th>\n",
       "      <th>chaparral</th>\n",
       "      <th>cloud</th>\n",
       "      <th>desert</th>\n",
       "      <th>forest</th>\n",
       "      <th>island</th>\n",
       "      <th>lake</th>\n",
       "      <th>meadow</th>\n",
       "      <th>mountain</th>\n",
       "      <th>river</th>\n",
       "      <th>sea</th>\n",
       "      <th>snowberg</th>\n",
       "      <th>wetland</th>\n",
       "      <th>Total</th>\n",
       "    </tr>\n",
       "  </thead>\n",
       "  <tbody>\n",
       "    <tr>\n",
       "      <th>GaussNoise</th>\n",
       "      <td>77.173912</td>\n",
       "      <td>95.714279</td>\n",
       "      <td>87.058823</td>\n",
       "      <td>82.191780</td>\n",
       "      <td>85.185188</td>\n",
       "      <td>87.654320</td>\n",
       "      <td>71.794876</td>\n",
       "      <td>96.25</td>\n",
       "      <td>71.764709</td>\n",
       "      <td>65.000000</td>\n",
       "      <td>93.827156</td>\n",
       "      <td>97.435898</td>\n",
       "      <td>59.210526</td>\n",
       "      <td>82.211540</td>\n",
       "    </tr>\n",
       "    <tr>\n",
       "      <th>ChannelShuffle</th>\n",
       "      <td>48.913044</td>\n",
       "      <td>37.142857</td>\n",
       "      <td>83.529411</td>\n",
       "      <td>27.397261</td>\n",
       "      <td>62.962959</td>\n",
       "      <td>44.444447</td>\n",
       "      <td>35.897438</td>\n",
       "      <td>27.50</td>\n",
       "      <td>17.647058</td>\n",
       "      <td>23.750000</td>\n",
       "      <td>83.950615</td>\n",
       "      <td>87.179489</td>\n",
       "      <td>38.157894</td>\n",
       "      <td>47.884617</td>\n",
       "    </tr>\n",
       "    <tr>\n",
       "      <th>Downscale</th>\n",
       "      <td>70.652176</td>\n",
       "      <td>88.571426</td>\n",
       "      <td>54.117649</td>\n",
       "      <td>82.191780</td>\n",
       "      <td>12.345679</td>\n",
       "      <td>88.888893</td>\n",
       "      <td>69.230774</td>\n",
       "      <td>62.50</td>\n",
       "      <td>67.058823</td>\n",
       "      <td>56.250000</td>\n",
       "      <td>95.061729</td>\n",
       "      <td>98.717949</td>\n",
       "      <td>75.000000</td>\n",
       "      <td>70.384613</td>\n",
       "    </tr>\n",
       "    <tr>\n",
       "      <th>HueSaturationValue</th>\n",
       "      <td>66.304352</td>\n",
       "      <td>91.428574</td>\n",
       "      <td>83.529411</td>\n",
       "      <td>72.602737</td>\n",
       "      <td>61.728394</td>\n",
       "      <td>85.185188</td>\n",
       "      <td>56.410259</td>\n",
       "      <td>78.75</td>\n",
       "      <td>64.705887</td>\n",
       "      <td>41.250000</td>\n",
       "      <td>87.654320</td>\n",
       "      <td>92.307693</td>\n",
       "      <td>56.578945</td>\n",
       "      <td>72.019234</td>\n",
       "    </tr>\n",
       "    <tr>\n",
       "      <th>ColorJitter</th>\n",
       "      <td>56.521736</td>\n",
       "      <td>75.714287</td>\n",
       "      <td>78.823532</td>\n",
       "      <td>57.534248</td>\n",
       "      <td>64.197525</td>\n",
       "      <td>81.481483</td>\n",
       "      <td>53.846157</td>\n",
       "      <td>50.00</td>\n",
       "      <td>44.705883</td>\n",
       "      <td>32.500000</td>\n",
       "      <td>86.419754</td>\n",
       "      <td>88.461533</td>\n",
       "      <td>59.210526</td>\n",
       "      <td>63.653847</td>\n",
       "    </tr>\n",
       "    <tr>\n",
       "      <th>ImageCompression</th>\n",
       "      <td>80.434784</td>\n",
       "      <td>94.285713</td>\n",
       "      <td>90.588234</td>\n",
       "      <td>82.191780</td>\n",
       "      <td>82.716049</td>\n",
       "      <td>88.888893</td>\n",
       "      <td>76.923080</td>\n",
       "      <td>93.75</td>\n",
       "      <td>74.117645</td>\n",
       "      <td>60.000004</td>\n",
       "      <td>93.827156</td>\n",
       "      <td>94.871796</td>\n",
       "      <td>69.736847</td>\n",
       "      <td>83.173080</td>\n",
       "    </tr>\n",
       "  </tbody>\n",
       "</table>\n",
       "</div>"
      ],
      "text/plain": [
       "                        beach  chaparral      cloud     desert     forest  \\\n",
       "GaussNoise          77.173912  95.714279  87.058823  82.191780  85.185188   \n",
       "ChannelShuffle      48.913044  37.142857  83.529411  27.397261  62.962959   \n",
       "Downscale           70.652176  88.571426  54.117649  82.191780  12.345679   \n",
       "HueSaturationValue  66.304352  91.428574  83.529411  72.602737  61.728394   \n",
       "ColorJitter         56.521736  75.714287  78.823532  57.534248  64.197525   \n",
       "ImageCompression    80.434784  94.285713  90.588234  82.191780  82.716049   \n",
       "\n",
       "                       island       lake  meadow   mountain      river  \\\n",
       "GaussNoise          87.654320  71.794876   96.25  71.764709  65.000000   \n",
       "ChannelShuffle      44.444447  35.897438   27.50  17.647058  23.750000   \n",
       "Downscale           88.888893  69.230774   62.50  67.058823  56.250000   \n",
       "HueSaturationValue  85.185188  56.410259   78.75  64.705887  41.250000   \n",
       "ColorJitter         81.481483  53.846157   50.00  44.705883  32.500000   \n",
       "ImageCompression    88.888893  76.923080   93.75  74.117645  60.000004   \n",
       "\n",
       "                          sea   snowberg    wetland      Total  \n",
       "GaussNoise          93.827156  97.435898  59.210526  82.211540  \n",
       "ChannelShuffle      83.950615  87.179489  38.157894  47.884617  \n",
       "Downscale           95.061729  98.717949  75.000000  70.384613  \n",
       "HueSaturationValue  87.654320  92.307693  56.578945  72.019234  \n",
       "ColorJitter         86.419754  88.461533  59.210526  63.653847  \n",
       "ImageCompression    93.827156  94.871796  69.736847  83.173080  "
      ]
     },
     "execution_count": 256,
     "metadata": {},
     "output_type": "execute_result"
    }
   ],
   "source": [
    "df_scratch"
   ]
  },
  {
   "cell_type": "markdown",
   "metadata": {},
   "source": [
    "The table of results for the model trained using the pretrained weights of EfficientNet respectively."
   ]
  },
  {
   "cell_type": "code",
   "execution_count": 257,
   "metadata": {},
   "outputs": [
    {
     "data": {
      "text/html": [
       "<div>\n",
       "<style scoped>\n",
       "    .dataframe tbody tr th:only-of-type {\n",
       "        vertical-align: middle;\n",
       "    }\n",
       "\n",
       "    .dataframe tbody tr th {\n",
       "        vertical-align: top;\n",
       "    }\n",
       "\n",
       "    .dataframe thead th {\n",
       "        text-align: right;\n",
       "    }\n",
       "</style>\n",
       "<table border=\"1\" class=\"dataframe\">\n",
       "  <thead>\n",
       "    <tr style=\"text-align: right;\">\n",
       "      <th></th>\n",
       "      <th>beach</th>\n",
       "      <th>chaparral</th>\n",
       "      <th>cloud</th>\n",
       "      <th>desert</th>\n",
       "      <th>forest</th>\n",
       "      <th>island</th>\n",
       "      <th>lake</th>\n",
       "      <th>meadow</th>\n",
       "      <th>mountain</th>\n",
       "      <th>river</th>\n",
       "      <th>sea</th>\n",
       "      <th>snowberg</th>\n",
       "      <th>wetland</th>\n",
       "      <th>Total</th>\n",
       "    </tr>\n",
       "  </thead>\n",
       "  <tbody>\n",
       "    <tr>\n",
       "      <th>GaussNoise</th>\n",
       "      <td>96.739128</td>\n",
       "      <td>100.000000</td>\n",
       "      <td>100.000000</td>\n",
       "      <td>90.410957</td>\n",
       "      <td>92.592590</td>\n",
       "      <td>87.654320</td>\n",
       "      <td>92.307693</td>\n",
       "      <td>90.00</td>\n",
       "      <td>80.000000</td>\n",
       "      <td>82.50</td>\n",
       "      <td>95.061729</td>\n",
       "      <td>96.153847</td>\n",
       "      <td>56.578945</td>\n",
       "      <td>89.326920</td>\n",
       "    </tr>\n",
       "    <tr>\n",
       "      <th>ChannelShuffle</th>\n",
       "      <td>90.217392</td>\n",
       "      <td>97.142860</td>\n",
       "      <td>98.823532</td>\n",
       "      <td>67.123291</td>\n",
       "      <td>96.296295</td>\n",
       "      <td>83.950615</td>\n",
       "      <td>74.358978</td>\n",
       "      <td>75.00</td>\n",
       "      <td>47.058823</td>\n",
       "      <td>78.75</td>\n",
       "      <td>97.530869</td>\n",
       "      <td>96.153847</td>\n",
       "      <td>64.473686</td>\n",
       "      <td>82.115387</td>\n",
       "    </tr>\n",
       "    <tr>\n",
       "      <th>Downscale</th>\n",
       "      <td>67.391304</td>\n",
       "      <td>1.428571</td>\n",
       "      <td>96.470589</td>\n",
       "      <td>95.890411</td>\n",
       "      <td>20.987654</td>\n",
       "      <td>51.851852</td>\n",
       "      <td>20.512821</td>\n",
       "      <td>95.00</td>\n",
       "      <td>0.000000</td>\n",
       "      <td>3.75</td>\n",
       "      <td>39.506172</td>\n",
       "      <td>0.000000</td>\n",
       "      <td>28.947369</td>\n",
       "      <td>40.673077</td>\n",
       "    </tr>\n",
       "    <tr>\n",
       "      <th>HueSaturationValue</th>\n",
       "      <td>95.652176</td>\n",
       "      <td>98.571426</td>\n",
       "      <td>97.647057</td>\n",
       "      <td>87.671234</td>\n",
       "      <td>95.061729</td>\n",
       "      <td>88.888893</td>\n",
       "      <td>93.589745</td>\n",
       "      <td>92.50</td>\n",
       "      <td>88.235298</td>\n",
       "      <td>93.75</td>\n",
       "      <td>100.000000</td>\n",
       "      <td>94.871796</td>\n",
       "      <td>81.578949</td>\n",
       "      <td>92.980766</td>\n",
       "    </tr>\n",
       "    <tr>\n",
       "      <th>ColorJitter</th>\n",
       "      <td>90.217392</td>\n",
       "      <td>97.142860</td>\n",
       "      <td>96.470589</td>\n",
       "      <td>69.863014</td>\n",
       "      <td>97.530869</td>\n",
       "      <td>85.185188</td>\n",
       "      <td>92.307693</td>\n",
       "      <td>85.00</td>\n",
       "      <td>76.470589</td>\n",
       "      <td>86.25</td>\n",
       "      <td>98.765434</td>\n",
       "      <td>94.871796</td>\n",
       "      <td>81.578949</td>\n",
       "      <td>88.653847</td>\n",
       "    </tr>\n",
       "    <tr>\n",
       "      <th>ImageCompression</th>\n",
       "      <td>100.000000</td>\n",
       "      <td>100.000000</td>\n",
       "      <td>98.823532</td>\n",
       "      <td>91.780823</td>\n",
       "      <td>98.765434</td>\n",
       "      <td>92.592590</td>\n",
       "      <td>98.717949</td>\n",
       "      <td>96.25</td>\n",
       "      <td>92.941177</td>\n",
       "      <td>93.75</td>\n",
       "      <td>100.000000</td>\n",
       "      <td>98.717949</td>\n",
       "      <td>92.105263</td>\n",
       "      <td>96.538460</td>\n",
       "    </tr>\n",
       "  </tbody>\n",
       "</table>\n",
       "</div>"
      ],
      "text/plain": [
       "                         beach   chaparral       cloud     desert     forest  \\\n",
       "GaussNoise           96.739128  100.000000  100.000000  90.410957  92.592590   \n",
       "ChannelShuffle       90.217392   97.142860   98.823532  67.123291  96.296295   \n",
       "Downscale            67.391304    1.428571   96.470589  95.890411  20.987654   \n",
       "HueSaturationValue   95.652176   98.571426   97.647057  87.671234  95.061729   \n",
       "ColorJitter          90.217392   97.142860   96.470589  69.863014  97.530869   \n",
       "ImageCompression    100.000000  100.000000   98.823532  91.780823  98.765434   \n",
       "\n",
       "                       island       lake  meadow   mountain  river  \\\n",
       "GaussNoise          87.654320  92.307693   90.00  80.000000  82.50   \n",
       "ChannelShuffle      83.950615  74.358978   75.00  47.058823  78.75   \n",
       "Downscale           51.851852  20.512821   95.00   0.000000   3.75   \n",
       "HueSaturationValue  88.888893  93.589745   92.50  88.235298  93.75   \n",
       "ColorJitter         85.185188  92.307693   85.00  76.470589  86.25   \n",
       "ImageCompression    92.592590  98.717949   96.25  92.941177  93.75   \n",
       "\n",
       "                           sea   snowberg    wetland      Total  \n",
       "GaussNoise           95.061729  96.153847  56.578945  89.326920  \n",
       "ChannelShuffle       97.530869  96.153847  64.473686  82.115387  \n",
       "Downscale            39.506172   0.000000  28.947369  40.673077  \n",
       "HueSaturationValue  100.000000  94.871796  81.578949  92.980766  \n",
       "ColorJitter          98.765434  94.871796  81.578949  88.653847  \n",
       "ImageCompression    100.000000  98.717949  92.105263  96.538460  "
      ]
     },
     "execution_count": 257,
     "metadata": {},
     "output_type": "execute_result"
    }
   ],
   "source": [
    "df_effnet"
   ]
  },
  {
   "cell_type": "markdown",
   "metadata": {},
   "source": [
    "## Visualization"
   ]
  },
  {
   "cell_type": "code",
   "execution_count": 286,
   "metadata": {},
   "outputs": [
    {
     "data": {
      "image/png": "[encoded data removed]",
      "text/plain": [
       "<Figure size 432x288 with 1 Axes>"
      ]
     },
     "metadata": {
      "needs_background": "light"
     },
     "output_type": "display_data"
    }
   ],
   "source": [
    "ax = df_effnet['Total'].plot(kind='bar', color = 'skyblue', label='effnet')\n",
    "plt.title(\"Total Accuracy vs. Perturbation graph\")\n",
    "df_scratch['Total'].plot(kind='bar', color = 'orange', ax=ax, label = 'scratch')\n",
    "plt.legend(loc='lower right')\n",
    "plt.ylabel('Overall Accuracy')\n",
    "plt.show()"
   ]
  },
  {
   "cell_type": "code",
   "execution_count": 323,
   "metadata": {},
   "outputs": [
    {
     "data": {
      "image/png": "[encoded data removed]",
      "text/plain": [
       "<Figure size 1008x432 with 1 Axes>"
      ]
     },
     "metadata": {
      "needs_background": "light"
     },
     "output_type": "display_data"
    }
   ],
   "source": [
    "df_s_t = df_scratch[df_scratch.columns[:-1]].T\n",
    "df_s_t.plot(kind='bar', figsize = (14, 6), cmap=plt.get_cmap('Accent'))\n",
    "plt.legend(loc= 'lower right')\n",
    "plt.ylabel('Accuracy')\n",
    "plt.title('Accuracy vs. Class plot for the model from scratch')\n",
    "plt.show()"
   ]
  },
  {
   "cell_type": "code",
   "execution_count": 325,
   "metadata": {},
   "outputs": [
    {
     "ename": "AttributeError",
     "evalue": "'Rectangle' object has no property 'rwidth'",
     "output_type": "error",
     "traceback": [
      "\u001b[0;31m---------------------------------------------------------------------------\u001b[0m",
      "\u001b[0;31mAttributeError\u001b[0m                            Traceback (most recent call last)",
      "\u001b[0;32m<ipython-input-325-72325fc21699>\u001b[0m in \u001b[0;36m<module>\u001b[0;34m\u001b[0m\n\u001b[1;32m      1\u001b[0m \u001b[0mdf_e_t\u001b[0m \u001b[0;34m=\u001b[0m \u001b[0mdf_effnet\u001b[0m\u001b[0;34m[\u001b[0m\u001b[0mdf_effnet\u001b[0m\u001b[0;34m.\u001b[0m\u001b[0mcolumns\u001b[0m\u001b[0;34m[\u001b[0m\u001b[0;34m:\u001b[0m\u001b[0;34m-\u001b[0m\u001b[0;36m1\u001b[0m\u001b[0;34m]\u001b[0m\u001b[0;34m]\u001b[0m\u001b[0;34m.\u001b[0m\u001b[0mT\u001b[0m\u001b[0;34m\u001b[0m\u001b[0;34m\u001b[0m\u001b[0m\n\u001b[0;32m----> 2\u001b[0;31m \u001b[0mdf_e_t\u001b[0m\u001b[0;34m.\u001b[0m\u001b[0mplot\u001b[0m\u001b[0;34m(\u001b[0m\u001b[0mkind\u001b[0m\u001b[0;34m=\u001b[0m\u001b[0;34m'bar'\u001b[0m\u001b[0;34m,\u001b[0m \u001b[0mfigsize\u001b[0m \u001b[0;34m=\u001b[0m \u001b[0;34m(\u001b[0m\u001b[0;36m14\u001b[0m\u001b[0;34m,\u001b[0m \u001b[0;36m6\u001b[0m\u001b[0;34m)\u001b[0m\u001b[0;34m,\u001b[0m \u001b[0mcmap\u001b[0m\u001b[0;34m=\u001b[0m\u001b[0mplt\u001b[0m\u001b[0;34m.\u001b[0m\u001b[0mget_cmap\u001b[0m\u001b[0;34m(\u001b[0m\u001b[0;34m'Accent'\u001b[0m\u001b[0;34m)\u001b[0m\u001b[0;34m,\u001b[0m \u001b[0mrwidth\u001b[0m \u001b[0;34m=\u001b[0m \u001b[0;36m0.5\u001b[0m\u001b[0;34m)\u001b[0m\u001b[0;34m\u001b[0m\u001b[0;34m\u001b[0m\u001b[0m\n\u001b[0m\u001b[1;32m      3\u001b[0m \u001b[0mplt\u001b[0m\u001b[0;34m.\u001b[0m\u001b[0mlegend\u001b[0m\u001b[0;34m(\u001b[0m\u001b[0mloc\u001b[0m\u001b[0;34m=\u001b[0m \u001b[0;34m'lower right'\u001b[0m\u001b[0;34m)\u001b[0m\u001b[0;34m\u001b[0m\u001b[0;34m\u001b[0m\u001b[0m\n\u001b[1;32m      4\u001b[0m \u001b[0mplt\u001b[0m\u001b[0;34m.\u001b[0m\u001b[0mylabel\u001b[0m\u001b[0;34m(\u001b[0m\u001b[0;34m'Accuracy'\u001b[0m\u001b[0;34m)\u001b[0m\u001b[0;34m\u001b[0m\u001b[0;34m\u001b[0m\u001b[0m\n\u001b[1;32m      5\u001b[0m \u001b[0mplt\u001b[0m\u001b[0;34m.\u001b[0m\u001b[0mtitle\u001b[0m\u001b[0;34m(\u001b[0m\u001b[0;34m'Accuracy vs. Class plot for the pretrained model effnet'\u001b[0m\u001b[0;34m)\u001b[0m\u001b[0;34m\u001b[0m\u001b[0;34m\u001b[0m\u001b[0m\n",
      "\u001b[0;32m~/anaconda3/lib/python3.7/site-packages/pandas/plotting/_core.py\u001b[0m in \u001b[0;36m__call__\u001b[0;34m(self, *args, **kwargs)\u001b[0m\n\u001b[1;32m    845\u001b[0m                     \u001b[0mdata\u001b[0m\u001b[0;34m.\u001b[0m\u001b[0mcolumns\u001b[0m \u001b[0;34m=\u001b[0m \u001b[0mlabel_name\u001b[0m\u001b[0;34m\u001b[0m\u001b[0;34m\u001b[0m\u001b[0m\n\u001b[1;32m    846\u001b[0m \u001b[0;34m\u001b[0m\u001b[0m\n\u001b[0;32m--> 847\u001b[0;31m         \u001b[0;32mreturn\u001b[0m \u001b[0mplot_backend\u001b[0m\u001b[0;34m.\u001b[0m\u001b[0mplot\u001b[0m\u001b[0;34m(\u001b[0m\u001b[0mdata\u001b[0m\u001b[0;34m,\u001b[0m \u001b[0mkind\u001b[0m\u001b[0;34m=\u001b[0m\u001b[0mkind\u001b[0m\u001b[0;34m,\u001b[0m \u001b[0;34m**\u001b[0m\u001b[0mkwargs\u001b[0m\u001b[0;34m)\u001b[0m\u001b[0;34m\u001b[0m\u001b[0;34m\u001b[0m\u001b[0m\n\u001b[0m\u001b[1;32m    848\u001b[0m \u001b[0;34m\u001b[0m\u001b[0m\n\u001b[1;32m    849\u001b[0m     \u001b[0m__call__\u001b[0m\u001b[0;34m.\u001b[0m\u001b[0m__doc__\u001b[0m \u001b[0;34m=\u001b[0m \u001b[0m__doc__\u001b[0m\u001b[0;34m\u001b[0m\u001b[0;34m\u001b[0m\u001b[0m\n",
      "\u001b[0;32m~/anaconda3/lib/python3.7/site-packages/pandas/plotting/_matplotlib/__init__.py\u001b[0m in \u001b[0;36mplot\u001b[0;34m(data, kind, **kwargs)\u001b[0m\n\u001b[1;32m     59\u001b[0m             \u001b[0mkwargs\u001b[0m\u001b[0;34m[\u001b[0m\u001b[0;34m\"ax\"\u001b[0m\u001b[0;34m]\u001b[0m \u001b[0;34m=\u001b[0m \u001b[0mgetattr\u001b[0m\u001b[0;34m(\u001b[0m\u001b[0max\u001b[0m\u001b[0;34m,\u001b[0m \u001b[0;34m\"left_ax\"\u001b[0m\u001b[0;34m,\u001b[0m \u001b[0max\u001b[0m\u001b[0;34m)\u001b[0m\u001b[0;34m\u001b[0m\u001b[0;34m\u001b[0m\u001b[0m\n\u001b[1;32m     60\u001b[0m     \u001b[0mplot_obj\u001b[0m \u001b[0;34m=\u001b[0m \u001b[0mPLOT_CLASSES\u001b[0m\u001b[0;34m[\u001b[0m\u001b[0mkind\u001b[0m\u001b[0;34m]\u001b[0m\u001b[0;34m(\u001b[0m\u001b[0mdata\u001b[0m\u001b[0;34m,\u001b[0m \u001b[0;34m**\u001b[0m\u001b[0mkwargs\u001b[0m\u001b[0;34m)\u001b[0m\u001b[0;34m\u001b[0m\u001b[0;34m\u001b[0m\u001b[0m\n\u001b[0;32m---> 61\u001b[0;31m     \u001b[0mplot_obj\u001b[0m\u001b[0;34m.\u001b[0m\u001b[0mgenerate\u001b[0m\u001b[0;34m(\u001b[0m\u001b[0;34m)\u001b[0m\u001b[0;34m\u001b[0m\u001b[0;34m\u001b[0m\u001b[0m\n\u001b[0m\u001b[1;32m     62\u001b[0m     \u001b[0mplot_obj\u001b[0m\u001b[0;34m.\u001b[0m\u001b[0mdraw\u001b[0m\u001b[0;34m(\u001b[0m\u001b[0;34m)\u001b[0m\u001b[0;34m\u001b[0m\u001b[0;34m\u001b[0m\u001b[0m\n\u001b[1;32m     63\u001b[0m     \u001b[0;32mreturn\u001b[0m \u001b[0mplot_obj\u001b[0m\u001b[0;34m.\u001b[0m\u001b[0mresult\u001b[0m\u001b[0;34m\u001b[0m\u001b[0;34m\u001b[0m\u001b[0m\n",
      "\u001b[0;32m~/anaconda3/lib/python3.7/site-packages/pandas/plotting/_matplotlib/core.py\u001b[0m in \u001b[0;36mgenerate\u001b[0;34m(self)\u001b[0m\n\u001b[1;32m    261\u001b[0m         \u001b[0mself\u001b[0m\u001b[0;34m.\u001b[0m\u001b[0m_compute_plot_data\u001b[0m\u001b[0;34m(\u001b[0m\u001b[0;34m)\u001b[0m\u001b[0;34m\u001b[0m\u001b[0;34m\u001b[0m\u001b[0m\n\u001b[1;32m    262\u001b[0m         \u001b[0mself\u001b[0m\u001b[0;34m.\u001b[0m\u001b[0m_setup_subplots\u001b[0m\u001b[0;34m(\u001b[0m\u001b[0;34m)\u001b[0m\u001b[0;34m\u001b[0m\u001b[0;34m\u001b[0m\u001b[0m\n\u001b[0;32m--> 263\u001b[0;31m         \u001b[0mself\u001b[0m\u001b[0;34m.\u001b[0m\u001b[0m_make_plot\u001b[0m\u001b[0;34m(\u001b[0m\u001b[0;34m)\u001b[0m\u001b[0;34m\u001b[0m\u001b[0;34m\u001b[0m\u001b[0m\n\u001b[0m\u001b[1;32m    264\u001b[0m         \u001b[0mself\u001b[0m\u001b[0;34m.\u001b[0m\u001b[0m_add_table\u001b[0m\u001b[0;34m(\u001b[0m\u001b[0;34m)\u001b[0m\u001b[0;34m\u001b[0m\u001b[0;34m\u001b[0m\u001b[0m\n\u001b[1;32m    265\u001b[0m         \u001b[0mself\u001b[0m\u001b[0;34m.\u001b[0m\u001b[0m_make_legend\u001b[0m\u001b[0;34m(\u001b[0m\u001b[0;34m)\u001b[0m\u001b[0;34m\u001b[0m\u001b[0;34m\u001b[0m\u001b[0m\n",
      "\u001b[0;32m~/anaconda3/lib/python3.7/site-packages/pandas/plotting/_matplotlib/core.py\u001b[0m in \u001b[0;36m_make_plot\u001b[0;34m(self)\u001b[0m\n\u001b[1;32m   1403\u001b[0m                     \u001b[0mlabel\u001b[0m\u001b[0;34m=\u001b[0m\u001b[0mlabel\u001b[0m\u001b[0;34m,\u001b[0m\u001b[0;34m\u001b[0m\u001b[0;34m\u001b[0m\u001b[0m\n\u001b[1;32m   1404\u001b[0m                     \u001b[0mlog\u001b[0m\u001b[0;34m=\u001b[0m\u001b[0mself\u001b[0m\u001b[0;34m.\u001b[0m\u001b[0mlog\u001b[0m\u001b[0;34m,\u001b[0m\u001b[0;34m\u001b[0m\u001b[0;34m\u001b[0m\u001b[0m\n\u001b[0;32m-> 1405\u001b[0;31m                     \u001b[0;34m**\u001b[0m\u001b[0mkwds\u001b[0m\u001b[0;34m,\u001b[0m\u001b[0;34m\u001b[0m\u001b[0;34m\u001b[0m\u001b[0m\n\u001b[0m\u001b[1;32m   1406\u001b[0m                 )\n\u001b[1;32m   1407\u001b[0m             \u001b[0mself\u001b[0m\u001b[0;34m.\u001b[0m\u001b[0m_add_legend_handle\u001b[0m\u001b[0;34m(\u001b[0m\u001b[0mrect\u001b[0m\u001b[0;34m,\u001b[0m \u001b[0mlabel\u001b[0m\u001b[0;34m,\u001b[0m \u001b[0mindex\u001b[0m\u001b[0;34m=\u001b[0m\u001b[0mi\u001b[0m\u001b[0;34m)\u001b[0m\u001b[0;34m\u001b[0m\u001b[0;34m\u001b[0m\u001b[0m\n",
      "\u001b[0;32m~/anaconda3/lib/python3.7/site-packages/pandas/plotting/_matplotlib/core.py\u001b[0m in \u001b[0;36m_plot\u001b[0;34m(cls, ax, x, y, w, start, log, **kwds)\u001b[0m\n\u001b[1;32m   1328\u001b[0m     \u001b[0;34m@\u001b[0m\u001b[0mclassmethod\u001b[0m\u001b[0;34m\u001b[0m\u001b[0;34m\u001b[0m\u001b[0m\n\u001b[1;32m   1329\u001b[0m     \u001b[0;32mdef\u001b[0m \u001b[0m_plot\u001b[0m\u001b[0;34m(\u001b[0m\u001b[0mcls\u001b[0m\u001b[0;34m,\u001b[0m \u001b[0max\u001b[0m\u001b[0;34m,\u001b[0m \u001b[0mx\u001b[0m\u001b[0;34m,\u001b[0m \u001b[0my\u001b[0m\u001b[0;34m,\u001b[0m \u001b[0mw\u001b[0m\u001b[0;34m,\u001b[0m \u001b[0mstart\u001b[0m\u001b[0;34m=\u001b[0m\u001b[0;36m0\u001b[0m\u001b[0;34m,\u001b[0m \u001b[0mlog\u001b[0m\u001b[0;34m=\u001b[0m\u001b[0;32mFalse\u001b[0m\u001b[0;34m,\u001b[0m \u001b[0;34m**\u001b[0m\u001b[0mkwds\u001b[0m\u001b[0;34m)\u001b[0m\u001b[0;34m:\u001b[0m\u001b[0;34m\u001b[0m\u001b[0;34m\u001b[0m\u001b[0m\n\u001b[0;32m-> 1330\u001b[0;31m         \u001b[0;32mreturn\u001b[0m \u001b[0max\u001b[0m\u001b[0;34m.\u001b[0m\u001b[0mbar\u001b[0m\u001b[0;34m(\u001b[0m\u001b[0mx\u001b[0m\u001b[0;34m,\u001b[0m \u001b[0my\u001b[0m\u001b[0;34m,\u001b[0m \u001b[0mw\u001b[0m\u001b[0;34m,\u001b[0m \u001b[0mbottom\u001b[0m\u001b[0;34m=\u001b[0m\u001b[0mstart\u001b[0m\u001b[0;34m,\u001b[0m \u001b[0mlog\u001b[0m\u001b[0;34m=\u001b[0m\u001b[0mlog\u001b[0m\u001b[0;34m,\u001b[0m \u001b[0;34m**\u001b[0m\u001b[0mkwds\u001b[0m\u001b[0;34m)\u001b[0m\u001b[0;34m\u001b[0m\u001b[0;34m\u001b[0m\u001b[0m\n\u001b[0m\u001b[1;32m   1331\u001b[0m \u001b[0;34m\u001b[0m\u001b[0m\n\u001b[1;32m   1332\u001b[0m     \u001b[0;34m@\u001b[0m\u001b[0mproperty\u001b[0m\u001b[0;34m\u001b[0m\u001b[0;34m\u001b[0m\u001b[0m\n",
      "\u001b[0;32m~/anaconda3/lib/python3.7/site-packages/matplotlib/__init__.py\u001b[0m in \u001b[0;36minner\u001b[0;34m(ax, data, *args, **kwargs)\u001b[0m\n\u001b[1;32m   1597\u001b[0m     \u001b[0;32mdef\u001b[0m \u001b[0minner\u001b[0m\u001b[0;34m(\u001b[0m\u001b[0max\u001b[0m\u001b[0;34m,\u001b[0m \u001b[0;34m*\u001b[0m\u001b[0margs\u001b[0m\u001b[0;34m,\u001b[0m \u001b[0mdata\u001b[0m\u001b[0;34m=\u001b[0m\u001b[0;32mNone\u001b[0m\u001b[0;34m,\u001b[0m \u001b[0;34m**\u001b[0m\u001b[0mkwargs\u001b[0m\u001b[0;34m)\u001b[0m\u001b[0;34m:\u001b[0m\u001b[0;34m\u001b[0m\u001b[0;34m\u001b[0m\u001b[0m\n\u001b[1;32m   1598\u001b[0m         \u001b[0;32mif\u001b[0m \u001b[0mdata\u001b[0m \u001b[0;32mis\u001b[0m \u001b[0;32mNone\u001b[0m\u001b[0;34m:\u001b[0m\u001b[0;34m\u001b[0m\u001b[0;34m\u001b[0m\u001b[0m\n\u001b[0;32m-> 1599\u001b[0;31m             \u001b[0;32mreturn\u001b[0m \u001b[0mfunc\u001b[0m\u001b[0;34m(\u001b[0m\u001b[0max\u001b[0m\u001b[0;34m,\u001b[0m \u001b[0;34m*\u001b[0m\u001b[0mmap\u001b[0m\u001b[0;34m(\u001b[0m\u001b[0msanitize_sequence\u001b[0m\u001b[0;34m,\u001b[0m \u001b[0margs\u001b[0m\u001b[0;34m)\u001b[0m\u001b[0;34m,\u001b[0m \u001b[0;34m**\u001b[0m\u001b[0mkwargs\u001b[0m\u001b[0;34m)\u001b[0m\u001b[0;34m\u001b[0m\u001b[0;34m\u001b[0m\u001b[0m\n\u001b[0m\u001b[1;32m   1600\u001b[0m \u001b[0;34m\u001b[0m\u001b[0m\n\u001b[1;32m   1601\u001b[0m         \u001b[0mbound\u001b[0m \u001b[0;34m=\u001b[0m \u001b[0mnew_sig\u001b[0m\u001b[0;34m.\u001b[0m\u001b[0mbind\u001b[0m\u001b[0;34m(\u001b[0m\u001b[0max\u001b[0m\u001b[0;34m,\u001b[0m \u001b[0;34m*\u001b[0m\u001b[0margs\u001b[0m\u001b[0;34m,\u001b[0m \u001b[0;34m**\u001b[0m\u001b[0mkwargs\u001b[0m\u001b[0;34m)\u001b[0m\u001b[0;34m\u001b[0m\u001b[0;34m\u001b[0m\u001b[0m\n",
      "\u001b[0;32m~/anaconda3/lib/python3.7/site-packages/matplotlib/axes/_axes.py\u001b[0m in \u001b[0;36mbar\u001b[0;34m(self, x, height, width, bottom, align, **kwargs)\u001b[0m\n\u001b[1;32m   2429\u001b[0m                 \u001b[0mlabel\u001b[0m\u001b[0;34m=\u001b[0m\u001b[0;34m'_nolegend_'\u001b[0m\u001b[0;34m,\u001b[0m\u001b[0;34m\u001b[0m\u001b[0;34m\u001b[0m\u001b[0m\n\u001b[1;32m   2430\u001b[0m                 )\n\u001b[0;32m-> 2431\u001b[0;31m             \u001b[0mr\u001b[0m\u001b[0;34m.\u001b[0m\u001b[0mupdate\u001b[0m\u001b[0;34m(\u001b[0m\u001b[0mkwargs\u001b[0m\u001b[0;34m)\u001b[0m\u001b[0;34m\u001b[0m\u001b[0;34m\u001b[0m\u001b[0m\n\u001b[0m\u001b[1;32m   2432\u001b[0m             \u001b[0mr\u001b[0m\u001b[0;34m.\u001b[0m\u001b[0mget_path\u001b[0m\u001b[0;34m(\u001b[0m\u001b[0;34m)\u001b[0m\u001b[0;34m.\u001b[0m\u001b[0m_interpolation_steps\u001b[0m \u001b[0;34m=\u001b[0m \u001b[0;36m100\u001b[0m\u001b[0;34m\u001b[0m\u001b[0;34m\u001b[0m\u001b[0m\n\u001b[1;32m   2433\u001b[0m             \u001b[0;32mif\u001b[0m \u001b[0morientation\u001b[0m \u001b[0;34m==\u001b[0m \u001b[0;34m'vertical'\u001b[0m\u001b[0;34m:\u001b[0m\u001b[0;34m\u001b[0m\u001b[0;34m\u001b[0m\u001b[0m\n",
      "\u001b[0;32m~/anaconda3/lib/python3.7/site-packages/matplotlib/artist.py\u001b[0m in \u001b[0;36mupdate\u001b[0;34m(self, props)\u001b[0m\n\u001b[1;32m    972\u001b[0m \u001b[0;34m\u001b[0m\u001b[0m\n\u001b[1;32m    973\u001b[0m         \u001b[0;32mwith\u001b[0m \u001b[0mcbook\u001b[0m\u001b[0;34m.\u001b[0m\u001b[0m_setattr_cm\u001b[0m\u001b[0;34m(\u001b[0m\u001b[0mself\u001b[0m\u001b[0;34m,\u001b[0m \u001b[0meventson\u001b[0m\u001b[0;34m=\u001b[0m\u001b[0;32mFalse\u001b[0m\u001b[0;34m)\u001b[0m\u001b[0;34m:\u001b[0m\u001b[0;34m\u001b[0m\u001b[0;34m\u001b[0m\u001b[0m\n\u001b[0;32m--> 974\u001b[0;31m             \u001b[0mret\u001b[0m \u001b[0;34m=\u001b[0m \u001b[0;34m[\u001b[0m\u001b[0m_update_property\u001b[0m\u001b[0;34m(\u001b[0m\u001b[0mself\u001b[0m\u001b[0;34m,\u001b[0m \u001b[0mk\u001b[0m\u001b[0;34m,\u001b[0m \u001b[0mv\u001b[0m\u001b[0;34m)\u001b[0m \u001b[0;32mfor\u001b[0m \u001b[0mk\u001b[0m\u001b[0;34m,\u001b[0m \u001b[0mv\u001b[0m \u001b[0;32min\u001b[0m \u001b[0mprops\u001b[0m\u001b[0;34m.\u001b[0m\u001b[0mitems\u001b[0m\u001b[0;34m(\u001b[0m\u001b[0;34m)\u001b[0m\u001b[0;34m]\u001b[0m\u001b[0;34m\u001b[0m\u001b[0;34m\u001b[0m\u001b[0m\n\u001b[0m\u001b[1;32m    975\u001b[0m \u001b[0;34m\u001b[0m\u001b[0m\n\u001b[1;32m    976\u001b[0m         \u001b[0;32mif\u001b[0m \u001b[0mlen\u001b[0m\u001b[0;34m(\u001b[0m\u001b[0mret\u001b[0m\u001b[0;34m)\u001b[0m\u001b[0;34m:\u001b[0m\u001b[0;34m\u001b[0m\u001b[0;34m\u001b[0m\u001b[0m\n",
      "\u001b[0;32m~/anaconda3/lib/python3.7/site-packages/matplotlib/artist.py\u001b[0m in \u001b[0;36m<listcomp>\u001b[0;34m(.0)\u001b[0m\n\u001b[1;32m    972\u001b[0m \u001b[0;34m\u001b[0m\u001b[0m\n\u001b[1;32m    973\u001b[0m         \u001b[0;32mwith\u001b[0m \u001b[0mcbook\u001b[0m\u001b[0;34m.\u001b[0m\u001b[0m_setattr_cm\u001b[0m\u001b[0;34m(\u001b[0m\u001b[0mself\u001b[0m\u001b[0;34m,\u001b[0m \u001b[0meventson\u001b[0m\u001b[0;34m=\u001b[0m\u001b[0;32mFalse\u001b[0m\u001b[0;34m)\u001b[0m\u001b[0;34m:\u001b[0m\u001b[0;34m\u001b[0m\u001b[0;34m\u001b[0m\u001b[0m\n\u001b[0;32m--> 974\u001b[0;31m             \u001b[0mret\u001b[0m \u001b[0;34m=\u001b[0m \u001b[0;34m[\u001b[0m\u001b[0m_update_property\u001b[0m\u001b[0;34m(\u001b[0m\u001b[0mself\u001b[0m\u001b[0;34m,\u001b[0m \u001b[0mk\u001b[0m\u001b[0;34m,\u001b[0m \u001b[0mv\u001b[0m\u001b[0;34m)\u001b[0m \u001b[0;32mfor\u001b[0m \u001b[0mk\u001b[0m\u001b[0;34m,\u001b[0m \u001b[0mv\u001b[0m \u001b[0;32min\u001b[0m \u001b[0mprops\u001b[0m\u001b[0;34m.\u001b[0m\u001b[0mitems\u001b[0m\u001b[0;34m(\u001b[0m\u001b[0;34m)\u001b[0m\u001b[0;34m]\u001b[0m\u001b[0;34m\u001b[0m\u001b[0;34m\u001b[0m\u001b[0m\n\u001b[0m\u001b[1;32m    975\u001b[0m \u001b[0;34m\u001b[0m\u001b[0m\n\u001b[1;32m    976\u001b[0m         \u001b[0;32mif\u001b[0m \u001b[0mlen\u001b[0m\u001b[0;34m(\u001b[0m\u001b[0mret\u001b[0m\u001b[0;34m)\u001b[0m\u001b[0;34m:\u001b[0m\u001b[0;34m\u001b[0m\u001b[0;34m\u001b[0m\u001b[0m\n",
      "\u001b[0;32m~/anaconda3/lib/python3.7/site-packages/matplotlib/artist.py\u001b[0m in \u001b[0;36m_update_property\u001b[0;34m(self, k, v)\u001b[0m\n\u001b[1;32m    968\u001b[0m                 \u001b[0;32mif\u001b[0m \u001b[0;32mnot\u001b[0m \u001b[0mcallable\u001b[0m\u001b[0;34m(\u001b[0m\u001b[0mfunc\u001b[0m\u001b[0;34m)\u001b[0m\u001b[0;34m:\u001b[0m\u001b[0;34m\u001b[0m\u001b[0;34m\u001b[0m\u001b[0m\n\u001b[1;32m    969\u001b[0m                     raise AttributeError('{!r} object has no property {!r}'\n\u001b[0;32m--> 970\u001b[0;31m                                          .format(type(self).__name__, k))\n\u001b[0m\u001b[1;32m    971\u001b[0m                 \u001b[0;32mreturn\u001b[0m \u001b[0mfunc\u001b[0m\u001b[0;34m(\u001b[0m\u001b[0mv\u001b[0m\u001b[0;34m)\u001b[0m\u001b[0;34m\u001b[0m\u001b[0;34m\u001b[0m\u001b[0m\n\u001b[1;32m    972\u001b[0m \u001b[0;34m\u001b[0m\u001b[0m\n",
      "\u001b[0;31mAttributeError\u001b[0m: 'Rectangle' object has no property 'rwidth'"
     ]
    },
    {
     "data": {
      "image/png": "[encoded data removed]",
      "text/plain": [
       "<Figure size 1008x432 with 1 Axes>"
      ]
     },
     "metadata": {
      "needs_background": "light"
     },
     "output_type": "display_data"
    }
   ],
   "source": [
    "df_e_t = df_effnet[df_effnet.columns[:-1]].T\n",
    "df_e_t.plot(kind='bar', figsize = (14, 6), cmap=plt.get_cmap('Accent'), rwidth = 0.5)\n",
    "plt.legend(loc= 'lower right')\n",
    "plt.ylabel('Accuracy')\n",
    "plt.title('Accuracy vs. Class plot for the pretrained model effnet')\n",
    "plt.show()"
   ]
  },
  {
   "cell_type": "code",
   "execution_count": null,
   "metadata": {},
   "outputs": [],
   "source": []
  }
 ],
 "metadata": {
  "kernelspec": {
   "display_name": "Python 3",
   "language": "python",
   "name": "python3"
  },
  "language_info": {
   "codemirror_mode": {
    "name": "ipython",
    "version": 3
   },
   "file_extension": ".py",
   "mimetype": "text/x-python",
   "name": "python",
   "nbconvert_exporter": "python",
   "pygments_lexer": "ipython3",
   "version": "3.7.6"
  }
 },
 "nbformat": 4,
 "nbformat_minor": 1
}
